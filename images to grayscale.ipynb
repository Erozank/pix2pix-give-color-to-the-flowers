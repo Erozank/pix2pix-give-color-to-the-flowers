{
 "cells": [
  {
   "cell_type": "code",
   "execution_count": 1,
   "metadata": {},
   "outputs": [],
   "source": [
    "from PIL import Image\n",
    "import os"
   ]
  },
  {
   "cell_type": "code",
   "execution_count": 2,
   "metadata": {},
   "outputs": [],
   "source": [
    "def convertAllImagesToGrayScale(sourceFolder, destinationFolder):\n",
    "    imageNames = os.listdir(sourceFolder)\n",
    "    for image in imageNames:\n",
    "        img = Image.open(sourceFolder + \"/\" + image).convert('L')\n",
    "        img.save(destinationFolder + \"/\" + image)"
   ]
  },
  {
   "cell_type": "code",
   "execution_count": 3,
   "metadata": {},
   "outputs": [],
   "source": [
    "convertAllImagesToGrayScale(\"D:/Users/Erozank/Documents/IA Notebook/Pix2Pix/color\", \n",
    "                            \"D:/Users/Erozank/Documents/IA Notebook/Pix2Pix/escala de grises\")"
   ]
  },
  {
   "cell_type": "code",
   "execution_count": null,
   "metadata": {},
   "outputs": [],
   "source": []
  }
 ],
 "metadata": {
  "kernelspec": {
   "display_name": "Python 3",
   "language": "python",
   "name": "python3"
  },
  "language_info": {
   "codemirror_mode": {
    "name": "ipython",
    "version": 3
   },
   "file_extension": ".py",
   "mimetype": "text/x-python",
   "name": "python",
   "nbconvert_exporter": "python",
   "pygments_lexer": "ipython3",
   "version": "3.7.3"
  }
 },
 "nbformat": 4,
 "nbformat_minor": 2
}
